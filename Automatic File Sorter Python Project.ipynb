{
 "cells": [
  {
   "cell_type": "code",
   "execution_count": null,
   "id": "673ae9b5-abe0-4288-88e3-8ae9c4149017",
   "metadata": {},
   "outputs": [],
   "source": [
    "# Automatic, run and enter path you want to sort\n",
    "\n",
    "import os, shutil\n",
    "\n",
    "x = True\n",
    "while x:\n",
    "    try:\n",
    "        path = input(\"Enter the path to be sorted: \") + '/'\n",
    "        if not os.path.exists(path):\n",
    "            print('That path does not exist')\n",
    "            raise\n",
    "        \n",
    "        file_names = os.listdir(path)\n",
    "        \n",
    "        if input('Are you sure you want to sort: ' + path + '\\nType Y to confirm: ') == 'Y':\n",
    "            \n",
    "            total_file_num = 0\n",
    "            \n",
    "            for file in file_names:\n",
    "                file_name, file_ext = os.path.splitext(path + file)\n",
    "                if file_ext == '':\n",
    "                    continue\n",
    "                if not os.path.exists(path + file_ext + ' files'):\n",
    "                    os.makedirs(path + file_ext + ' files')\n",
    "                if not os.path.exists(path + file_ext + ' files/' + file):\n",
    "                    shutil.move(path + file, path + file_ext + ' files/' + file)\n",
    "                else:\n",
    "                    print('A file could not be moved, ' + file_name + file_ext + ' possible file with same name already in '+ file_ext + ' files folder')\n",
    "                    continue\n",
    "                total_file_num += 1 \n",
    "                \n",
    "            print('Completed: ' + str(total_file_num) + ' files sorted')\n",
    "        else:\n",
    "            print('Canceled')\n",
    "        raise\n",
    "        \n",
    "    except:\n",
    "        x = False"
   ]
  },
  {
   "cell_type": "code",
   "execution_count": null,
   "id": "a167c68e",
   "metadata": {},
   "outputs": [],
   "source": [
    "# Manually sorts only file types and path you manually enter\n",
    "import os, shutil\n",
    "\n",
    "folder_names = ['csv files', 'png files', 'sql files']\n",
    "path = r\"\"\n",
    "\n",
    "for loop in range(0, 3):\n",
    "    if not os.path.exists(path + folder_names[loop]):\n",
    "        os.makedirs(path + folder_names[loop])\n",
    "\n",
    "for file in file_names:\n",
    "    if \".csv\" in file and not os.path.exists(path + \"csv files/\" + file):\n",
    "        shutil.move(path + file, path + \"csv files/\" + file)\n",
    "    elif \".png\" in file and not os.path.exists(path + \"png files/\" + file):\n",
    "        shutil.move(path + file, path + \"png files/\" + file)\n",
    "    elif \".sql\" in file and not os.path.exists(path + \"sql files/\" + file):\n",
    "        shutil.move(path + file, path + \"sql files/\" + file)"
   ]
  }
 ],
 "metadata": {
  "kernelspec": {
   "display_name": "Python [conda env:base] *",
   "language": "python",
   "name": "conda-base-py"
  },
  "language_info": {
   "codemirror_mode": {
    "name": "ipython",
    "version": 3
   },
   "file_extension": ".py",
   "mimetype": "text/x-python",
   "name": "python",
   "nbconvert_exporter": "python",
   "pygments_lexer": "ipython3",
   "version": "3.12.7"
  }
 },
 "nbformat": 4,
 "nbformat_minor": 5
}
